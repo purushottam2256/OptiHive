{
 "cells": [
  {
   "cell_type": "code",
   "execution_count": 15,
   "metadata": {},
   "outputs": [],
   "source": [
    "import pandas as pd\n",
    "import json\n",
    "import logging\n",
    "from datetime import datetime"
   ]
  },
  {
   "cell_type": "code",
   "execution_count": 19,
   "metadata": {},
   "outputs": [],
   "source": [
    "logging.basicConfig(level=logging.INFO)\n",
    "logger = logging.getLogger(__name__)"
   ]
  },
  {
   "cell_type": "code",
   "execution_count": 20,
   "metadata": {},
   "outputs": [],
   "source": [
    "def parse_log_line(line):\n",
    "    try:\n",
    "        # Extract JSON data from log line\n",
    "        if 'Collected battery data:' in line:\n",
    "            json_str = line.split('Collected battery data: ')[1]\n",
    "            # Replace single quotes with double quotes for valid JSON format\n",
    "            json_str = json_str.replace(\"'\", '\"')\n",
    "            # Replace Python None with JSON null for compatibility\n",
    "            json_str = json_str.replace('None', 'null')\n",
    "            # Strip leading/trailing spaces and extra characters\n",
    "            json_str = json_str.strip()\n",
    "            \n",
    "            # Ensure the string is valid JSON\n",
    "            if json_str.startswith('{') and json_str.endswith('}'):\n",
    "                return json.loads(json_str)\n",
    "            else:\n",
    "                logger.error(f\"Invalid JSON format in line: {line}\")\n",
    "                return None\n",
    "    except json.JSONDecodeError as e:\n",
    "        logger.error(f\"JSONDecodeError: {e} for line: {line}\")\n",
    "        return None\n",
    "    except Exception as e:\n",
    "        logger.error(f\"Error parsing line: {e}\")\n",
    "        return None\n",
    "\n",
    "def preprocess_battery_data():\n",
    "    try:\n",
    "        # Read raw log file\n",
    "        data_list = []\n",
    "        log_file_path = '../data/battery_data.csv'\n",
    "        \n",
    "        # Check if the file exists\n",
    "        try:\n",
    "            with open(log_file_path, 'r') as f:\n",
    "                for line in f:\n",
    "                    data = parse_log_line(line)\n",
    "                    if data:\n",
    "                        data_list.append(data)\n",
    "        except FileNotFoundError:\n",
    "            logger.error(f\"File not found: {log_file_path}\")\n",
    "            return None\n",
    "        \n",
    "        # Convert to DataFrame\n",
    "        df = pd.DataFrame(data_list)\n",
    "\n",
    "        # Check if required columns exist\n",
    "        expected_columns = ['battery_percentage', 'voltage', 'time', 'timestamp']\n",
    "        missing_columns = [col for col in expected_columns if col not in df.columns]\n",
    "        if missing_columns:\n",
    "            logger.error(f\"Missing columns: {missing_columns}\")\n",
    "            return None\n",
    "\n",
    "        # Convert types\n",
    "        df['battery_percentage'] = pd.to_numeric(df['battery_percentage'], errors='coerce')\n",
    "        df['voltage'] = pd.to_numeric(df['voltage'], errors='coerce')\n",
    "        df['time'] = pd.to_numeric(df['time'], errors='coerce')\n",
    "        df['timestamp'] = pd.to_datetime(df['timestamp'], errors='coerce')\n",
    "\n",
    "        # Calculate time differences\n",
    "        df['time_diff'] = df['time'].diff()\n",
    "\n",
    "        # Feature engineering\n",
    "        df['voltage_change'] = df['voltage'].diff()\n",
    "        df['battery_change'] = df['battery_percentage'].diff()\n",
    "\n",
    "        # Handle missing values (if any NaNs)\n",
    "        df.fillna(method='ffill', inplace=True)\n",
    "\n",
    "        # Save cleaned data\n",
    "        cleaned_data_path = '../data/clean_battery_data.csv'\n",
    "        df.to_csv(cleaned_data_path, index=False)\n",
    "        logger.info(f\"Cleaned data saved to {cleaned_data_path}, shape: {df.shape}\")\n",
    "\n",
    "        return df\n",
    "        \n",
    "    except Exception as e:\n",
    "        logger.error(f\"Error preprocessing data: {e}\")\n",
    "        raise"
   ]
  },
  {
   "cell_type": "code",
   "execution_count": 21,
   "metadata": {},
   "outputs": [
    {
     "name": "stderr",
     "output_type": "stream",
     "text": [
      "C:\\Users\\admin\\AppData\\Local\\Temp\\ipykernel_12960\\2692624843.py:67: FutureWarning: DataFrame.fillna with 'method' is deprecated and will raise in a future version. Use obj.ffill() or obj.bfill() instead.\n",
      "  df.fillna(method='ffill', inplace=True)\n",
      "INFO:__main__:Cleaned data saved to ../data/clean_battery_data.csv, shape: (300, 9)\n"
     ]
    },
    {
     "name": "stdout",
     "output_type": "stream",
     "text": [
      "\n",
      "First few rows of cleaned data:\n",
      "   battery_percentage  voltage temperature full_charge_capacity          time  \\\n",
      "0                  53    11165        None                 None  1.732023e+09   \n",
      "1                  53    12043        None                 None  1.732023e+09   \n",
      "2                  54    12130        None                 None  1.732023e+09   \n",
      "3                  55    12176        None                 None  1.732023e+09   \n",
      "4                  55    12243        None                 None  1.732023e+09   \n",
      "\n",
      "            timestamp  time_diff  voltage_change  battery_change  \n",
      "0 2024-11-19 18:57:33        NaN             NaN             NaN  \n",
      "1 2024-11-19 18:58:33  60.215339           878.0             0.0  \n",
      "2 2024-11-19 18:59:33  60.273084            87.0             1.0  \n",
      "3 2024-11-19 19:00:33  60.220394            46.0             1.0  \n",
      "4 2024-11-19 19:01:33  60.280137            67.0             0.0  \n"
     ]
    }
   ],
   "source": [
    "if __name__ == \"__main__\":\n",
    "    df = preprocess_battery_data()\n",
    "    if df is not None:\n",
    "        print(\"\\nFirst few rows of cleaned data:\")\n",
    "        print(df.head())"
   ]
  }
 ],
 "metadata": {
  "kernelspec": {
   "display_name": "Python 3",
   "language": "python",
   "name": "python3"
  },
  "language_info": {
   "codemirror_mode": {
    "name": "ipython",
    "version": 3
   },
   "file_extension": ".py",
   "mimetype": "text/x-python",
   "name": "python",
   "nbconvert_exporter": "python",
   "pygments_lexer": "ipython3",
   "version": "3.12.5"
  }
 },
 "nbformat": 4,
 "nbformat_minor": 2
}
