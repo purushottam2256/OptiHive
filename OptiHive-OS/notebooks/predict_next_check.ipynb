{
 "cells": [
  {
   "cell_type": "code",
   "execution_count": 1,
   "metadata": {},
   "outputs": [],
   "source": [
    "import joblib\n",
    "import pandas as pd\n",
    "import numpy as np\n",
    "import logging\n",
    "import os"
   ]
  },
  {
   "cell_type": "code",
   "execution_count": 2,
   "metadata": {},
   "outputs": [],
   "source": [
    "# Setup logging\n",
    "logging.basicConfig(level=logging.INFO)\n",
    "logger = logging.getLogger(__name__)"
   ]
  },
  {
   "cell_type": "code",
   "execution_count": 4,
   "metadata": {},
   "outputs": [],
   "source": [
    "def predict_next_check(battery_data):\n",
    "    try:\n",
    "        # Load model\n",
    "        model = joblib.load('../models/battery_check_model.pkl')\n",
    "        \n",
    "        # Prepare features in correct order\n",
    "        required_features = [\n",
    "            'battery_percentage',\n",
    "            'voltage',\n",
    "            'voltage_change',\n",
    "            'battery_change',\n",
    "            'time_diff'\n",
    "        ]\n",
    "        \n",
    "        # Create feature vector\n",
    "        features = pd.DataFrame([battery_data])\n",
    "        \n",
    "        # Add missing features if needed\n",
    "        for feature in required_features:\n",
    "            if feature not in features.columns:\n",
    "                features[feature] = 0  # Default value for missing features\n",
    "        \n",
    "        # Ensure correct feature order\n",
    "        features = features[required_features]\n",
    "        \n",
    "        # Make prediction\n",
    "        next_check_interval = model.predict(features)\n",
    "        \n",
    "        return next_check_interval[0]\n",
    "        \n",
    "    except Exception as e:\n",
    "        logger.error(f\"Prediction error: {e}\")\n",
    "        raise"
   ]
  },
  {
   "cell_type": "code",
   "execution_count": 5,
   "metadata": {},
   "outputs": [],
   "source": [
    "# Example usage\n",
    "if __name__ == \"__main__\":\n",
    "    # Test data\n",
    "    test_data = {\n",
    "        'battery_percentage': 75,\n",
    "        'voltage': 12000,\n",
    "        'voltage_change': 0,\n",
    "        'battery_change': 0,\n",
    "        'time_diff': 300\n",
    "    }"
   ]
  },
  {
   "cell_type": "code",
   "execution_count": 6,
   "metadata": {},
   "outputs": [
    {
     "name": "stdout",
     "output_type": "stream",
     "text": [
      "Predicted next check interval: 60.52 seconds\n"
     ]
    }
   ],
   "source": [
    "predicted_interval = predict_next_check(test_data)\n",
    "print(f\"Predicted next check interval: {predicted_interval:.2f} seconds\")"
   ]
  }
 ],
 "metadata": {
  "kernelspec": {
   "display_name": "Python 3",
   "language": "python",
   "name": "python3"
  },
  "language_info": {
   "codemirror_mode": {
    "name": "ipython",
    "version": 3
   },
   "file_extension": ".py",
   "mimetype": "text/x-python",
   "name": "python",
   "nbconvert_exporter": "python",
   "pygments_lexer": "ipython3",
   "version": "3.12.5"
  }
 },
 "nbformat": 4,
 "nbformat_minor": 2
}
